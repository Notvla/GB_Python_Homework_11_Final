{
 "cells": [
  {
   "cell_type": "code",
   "execution_count": 1,
   "id": "b0aa131b",
   "metadata": {},
   "outputs": [
    {
     "name": "stdout",
     "output_type": "stream",
     "text": [
      "1. нули и корни\n",
      "нет корней\n"
     ]
    }
   ],
   "source": [
    "from sympy import *\n",
    "from sympy.plotting import plot\n",
    "\n",
    "x = Symbol(\"x\", real=True)\n",
    "func = (x ** 2 + 3) / (3 * (x + 1))\n",
    "\n",
    "print(\"1. нули и корни\")\n",
    "def roots(func):\n",
    "    return[round(x,3) for x in solve(func,x) if x.is_real] if [round(x,3) for x in solve(func,x) if x.is_real] else 'нет корней'\n",
    "print(f'{roots(func)}')"
   ]
  },
  {
   "cell_type": "code",
   "execution_count": 2,
   "id": "ea7e36a7",
   "metadata": {},
   "outputs": [
    {
     "name": "stdout",
     "output_type": "stream",
     "text": [
      "возрастание и убывание\n",
      "Возрастает :  от -oo до -3 от 1 до oo\n",
      "Убывает :  от -3 до -1 от -1 до 1\n"
     ]
    }
   ],
   "source": [
    "print('возрастание и убывание')\n",
    "def extr(f):\n",
    "    ex=[-oo, oo]\n",
    "    ex[1:1]=solve(diff(f),x) # крит точки\n",
    "    ex[1:1]=solve((3 * (x + 1)),x) # асимптота\n",
    "    ex.sort()\n",
    "    return ex\n",
    "\n",
    "def inc(f):\n",
    "    incr=[]\n",
    "    redc=[]\n",
    "    for i in range(1,len(extr(f))):\n",
    "        temp=is_increasing(f,Interval.open(extr(f)[i-1],extr(f)[i]))\n",
    "        if temp:\n",
    "            incr.append(f'от {round(extr(f)[i-1],3)} до {round(extr(f)[i],3)}')\n",
    "        else:\n",
    "            redc.append(f'от {round(extr(f)[i-1],3)} до {round(extr(f)[i],3)}')    \n",
    "    print(\"Возрастает : \", *incr)\n",
    "    print(\"Убывает : \", *redc)\n",
    "    \n",
    "inc(func) "
   ]
  },
  {
   "cell_type": "code",
   "execution_count": 3,
   "id": "65085684",
   "metadata": {},
   "outputs": [
    {
     "name": "stdout",
     "output_type": "stream",
     "text": [
      "график функции : (x**2 + 3)/(3*x + 3)\n"
     ]
    },
    {
     "data": {
      "image/png": "[encoded data removed]",
      "text/plain": [
       "<Figure size 640x480 with 1 Axes>"
      ]
     },
     "metadata": {},
     "output_type": "display_data"
    },
    {
     "data": {
      "text/plain": [
       "<sympy.plotting.plot.Plot at 0x1a564df3cd0>"
      ]
     },
     "execution_count": 3,
     "metadata": {},
     "output_type": "execute_result"
    }
   ],
   "source": [
    "print(f\"график функции : {func}\")\n",
    "plot(func,(x,-50,50))"
   ]
  },
  {
   "cell_type": "code",
   "execution_count": 4,
   "id": "6378ab7b",
   "metadata": {},
   "outputs": [
    {
     "name": "stdout",
     "output_type": "stream",
     "text": [
      "Экстремумы функции : (x**2 + 3)/(3*x + 3)\n",
      "Точка минимумуа -2\n",
      "Точка максимума 0.667\n"
     ]
    }
   ],
   "source": [
    "print(f\"Экстремумы функции : {func}\")\n",
    "def ext(f):    \n",
    "    ex=solve(diff(f),x)\n",
    "    for i in ex:\n",
    "        temp=f.subs(x,i)\n",
    "        if temp<0:\n",
    "            print(\"Точка минимумуа\", round(temp,3))\n",
    "        else:\n",
    "            print(\"Точка максимума\", round(temp,3))\n",
    "ext(func)"
   ]
  },
  {
   "cell_type": "code",
   "execution_count": 5,
   "id": "fb29188d",
   "metadata": {},
   "outputs": [
    {
     "name": "stdout",
     "output_type": "stream",
     "text": [
      "Знакопостоянства функции : (x**2 + 3)/(3*x + 3)\n",
      "f > 0:  -oo,-1 -1,oo\n",
      "f < 0: \n"
     ]
    }
   ],
   "source": [
    "print(f\"Знакопостоянства функции : {func}\")\n",
    "def updwn(f):\n",
    "    lst=[-oo, oo]\n",
    "    lst[1:1]=solve((3 * (x + 1)),x) # асимптота\n",
    "    up=[]\n",
    "    down=[]\n",
    "    for i in range(1,len(lst)):\n",
    "        temp_1,temp_2=lst[i-1],lst[i]\n",
    "        temp=is_increasing(f,Interval.open(temp_1,temp_2))\n",
    "        if temp:\n",
    "            down.append(f'{temp_1},{lst[i]}')\n",
    "        else:\n",
    "            up.append(f'{temp_1},{lst[i]}')\n",
    "    print(\"f > 0: \", *up)\n",
    "    print(\"f < 0: \", *down)    \n",
    "updwn(func)"
   ]
  },
  {
   "cell_type": "code",
   "execution_count": null,
   "id": "6257950a",
   "metadata": {},
   "outputs": [],
   "source": []
  }
 ],
 "metadata": {
  "kernelspec": {
   "display_name": "Python 3 (ipykernel)",
   "language": "python",
   "name": "python3"
  },
  "language_info": {
   "codemirror_mode": {
    "name": "ipython",
    "version": 3
   },
   "file_extension": ".py",
   "mimetype": "text/x-python",
   "name": "python",
   "nbconvert_exporter": "python",
   "pygments_lexer": "ipython3",
   "version": "3.9.13"
  }
 },
 "nbformat": 4,
 "nbformat_minor": 5
}
