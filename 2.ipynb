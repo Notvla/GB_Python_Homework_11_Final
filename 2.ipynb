{
 "cells": [
  {
   "cell_type": "code",
   "execution_count": 1,
   "id": "455c77c3",
   "metadata": {},
   "outputs": [
    {
     "name": "stdout",
     "output_type": "stream",
     "text": [
      "1. нули и корни\n",
      "[-3, -1, 3]\n"
     ]
    }
   ],
   "source": [
    "from sympy import *\n",
    "from sympy.plotting import plot\n",
    "\n",
    "x = Symbol(\"x\", real=True)\n",
    "func = 2 * x ** 3 + 2 * x ** 2 - 18 * x - 18\n",
    "\n",
    "print(\"1. нули и корни\")\n",
    "def roots(func):\n",
    "    return[round(x,3) for x in solve(func,x) if x.is_real] if [round(x,3) for x in solve(func,x) if x.is_real] else 'нет корней'\n",
    "print(f'{roots(func)}')"
   ]
  },
  {
   "cell_type": "code",
   "execution_count": 2,
   "id": "c511a338",
   "metadata": {},
   "outputs": [
    {
     "name": "stdout",
     "output_type": "stream",
     "text": [
      "возрастание и убывание\n",
      "Функция: 2*x**3 + 2*x**2 - 18*x - 18\n",
      "Возрастает на интервале: \n",
      "от -oo до -2.097\n",
      "от 1.431 до oo\n",
      "Убывает на интервале: \n",
      "от -2.097 до 1.431\n"
     ]
    }
   ],
   "source": [
    "print('возрастание и убывание')\n",
    "def extr(f):\n",
    "    ex=[-oo, oo]\n",
    "    ex[1:1]=solve(diff(f),x)\n",
    "    ex.sort()\n",
    "    return ex\n",
    "\n",
    "def inc(f):\n",
    "    incr=[]\n",
    "    redc=[]\n",
    "    for i in range(1,len(extr(f))):\n",
    "        temp=is_increasing(f,Interval.open(extr(f)[i-1],extr(f)[i]))\n",
    "        if temp:\n",
    "            incr.append(f'от {round(extr(f)[i-1],3)} до {round(extr(f)[i],3)}')\n",
    "        else:\n",
    "            redc.append(f'от {round(extr(f)[i-1],3)} до {round(extr(f)[i],3)}')\n",
    "    print(f'Функция: {func}')\n",
    "    print(\"Возрастает на интервале: \", *incr, sep='\\n')\n",
    "    print(\"Убывает на интервале: \", *redc, sep='\\n')    \n",
    "\n",
    "inc(func)"
   ]
  },
  {
   "cell_type": "code",
   "execution_count": 3,
   "id": "ff05f29a",
   "metadata": {},
   "outputs": [
    {
     "name": "stdout",
     "output_type": "stream",
     "text": [
      "график функции : 2*x**3 + 2*x**2 - 18*x - 18\n"
     ]
    },
    {
     "data": {
      "image/png": "[encoded data removed]",
      "text/plain": [
       "<Figure size 640x480 with 1 Axes>"
      ]
     },
     "metadata": {},
     "output_type": "display_data"
    },
    {
     "data": {
      "text/plain": [
       "<sympy.plotting.plot.Plot at 0x1531ed27910>"
      ]
     },
     "execution_count": 3,
     "metadata": {},
     "output_type": "execute_result"
    }
   ],
   "source": [
    "print(f\"график функции : {func}\")\n",
    "plot(func,(x,-5,5))"
   ]
  },
  {
   "cell_type": "code",
   "execution_count": 4,
   "id": "fe0ee643",
   "metadata": {},
   "outputs": [
    {
     "name": "stdout",
     "output_type": "stream",
     "text": [
      "Экстремумы функции : 2*x**3 + 2*x**2 - 18*x - 18\n",
      "Точка минимумуа -33.802\n",
      "Точка максимума 10.098\n"
     ]
    }
   ],
   "source": [
    "print(f\"Экстремумы функции : {func}\")\n",
    "def ext(f):    \n",
    "    ex=solve(diff(f),x)\n",
    "    for i in ex:\n",
    "        temp=f.subs(x,i)\n",
    "        if temp<0:\n",
    "            print(\"Точка минимумуа\", round(temp,3))\n",
    "        else:\n",
    "            print(\"Точка максимума\", round(temp,3))\n",
    "ext(func)"
   ]
  },
  {
   "cell_type": "code",
   "execution_count": 5,
   "id": "9bd304e0",
   "metadata": {},
   "outputs": [
    {
     "name": "stdout",
     "output_type": "stream",
     "text": [
      "Знакопостоянства функции : 2*x**3 + 2*x**2 - 18*x - 18\n",
      "f > 0:  -3,-1 3,oo\n",
      "f < 0:  -oo,-3 -1,3\n"
     ]
    }
   ],
   "source": [
    "print(f\"Знакопостоянства функции : {func}\")\n",
    "def updwn(f): # для функция с корнями\n",
    "    lst=[-oo, oo]\n",
    "    lst[1:1]=[round(x,3) for x in solve(f,x) if x.is_real]\n",
    "    up=[]\n",
    "    down=[]\n",
    "    counter = is_increasing(f,Interval.open(lst[0],lst[1]))\n",
    "    for i in range(1,len(lst)):\n",
    "        if counter%2:\n",
    "            down.append(f'{lst[i-1]},{lst[i]}')\n",
    "        else:\n",
    "            up.append(f'{lst[i-1]},{lst[i]}')\n",
    "        counter+=1   \n",
    "    print(\"f > 0: \", *up)\n",
    "    print(\"f < 0: \", *down)    \n",
    "updwn(func)"
   ]
  },
  {
   "cell_type": "code",
   "execution_count": null,
   "id": "9061a109",
   "metadata": {},
   "outputs": [],
   "source": []
  }
 ],
 "metadata": {
  "kernelspec": {
   "display_name": "Python 3 (ipykernel)",
   "language": "python",
   "name": "python3"
  },
  "language_info": {
   "codemirror_mode": {
    "name": "ipython",
    "version": 3
   },
   "file_extension": ".py",
   "mimetype": "text/x-python",
   "name": "python",
   "nbconvert_exporter": "python",
   "pygments_lexer": "ipython3",
   "version": "3.9.13"
  }
 },
 "nbformat": 4,
 "nbformat_minor": 5
}
